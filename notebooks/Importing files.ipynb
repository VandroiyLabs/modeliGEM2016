{
 "cells": [
  {
   "cell_type": "markdown",
   "metadata": {},
   "source": [
    "# Importing files\n",
    "\n",
    "The output format in this machine is different from what PlateMate originally was able to read. Thus, we will extend its reading module. To achieve this, we explore below openpyxl as an option to read directly from the xlsx files provided by the plate reader."
   ]
  },
  {
   "cell_type": "code",
   "execution_count": 3,
   "metadata": {
    "collapsed": true
   },
   "outputs": [],
   "source": [
    "import numpy as np\n",
    "import pylab as pl\n",
    "import openpyxl as xl\n",
    "import string\n",
    "%matplotlib inline"
   ]
  },
  {
   "cell_type": "code",
   "execution_count": 4,
   "metadata": {
    "collapsed": false
   },
   "outputs": [],
   "source": [
    "dataset_folder = \"../datasets/\"\n",
    "\n",
    "read = xl.load_workbook(dataset_folder + \"20161003 pJP22mcherry 01.xlsx\")['Sheet2']"
   ]
  },
  {
   "cell_type": "code",
   "execution_count": 5,
   "metadata": {
    "collapsed": false
   },
   "outputs": [
    {
     "name": "stdout",
     "output_type": "stream",
     "text": [
      "25386\n"
     ]
    }
   ],
   "source": [
    "print read['B74'].value"
   ]
  },
  {
   "cell_type": "markdown",
   "metadata": {
    "collapsed": true
   },
   "source": [
    "All plate readings start in cells B36, B74, B106 and B144. It would be interesting to have a better documentation of what is the difference among each of these readings -- of course, it's got to be something related to the wavelengths used in the excitation and emission.\n",
    "\n",
    "Let's write a function that reads a plate given its starting point and the number of columns to be considered."
   ]
  },
  {
   "cell_type": "code",
   "execution_count": 6,
   "metadata": {
    "collapsed": true
   },
   "outputs": [],
   "source": [
    "def readPlate( spsheet, InitialRow, ncols = 12, nrows = 8 ):\n",
    "    \n",
    "    read = np.zeros( (nrows, ncols) )\n",
    "    \n",
    "    LTS = list(string.ascii_uppercase)[1:20]\n",
    "    for row in range(nrows):\n",
    "        line = row + InitialRow\n",
    "        for col in range(ncols):\n",
    "            read[row,col] = float( spsheet[LTS[col]+str(line)].value )\n",
    "    \n",
    "    return read"
   ]
  },
  {
   "cell_type": "markdown",
   "metadata": {},
   "source": [
    "Let's check the first two:"
   ]
  },
  {
   "cell_type": "code",
   "execution_count": 7,
   "metadata": {
    "collapsed": false
   },
   "outputs": [
    {
     "data": {
      "text/plain": [
       "array([[  5906.,   4512.,   4368.,   5048.,   4359.,   4401.,   4593.,\n",
       "          5385.,  21265.,   4597.,   4691.,   4055.],\n",
       "       [  5173.,   5054.,   4633.,   4652.,   4059.,   4925.,   4277.,\n",
       "          4698.,   3432.,   4438.,   4934.,   3196.],\n",
       "       [  3747.,   4047.,   4370.,   4511.,   3921.,   3949.,   3538.,\n",
       "          5852.,   4047.,   3053.,   3571.,   5200.],\n",
       "       [  4883.,   6831.,   5012.,   4473.,   4293.,   4544.,   3984.,\n",
       "          5956.,   5035.,   3884.,   3481.,   4102.],\n",
       "       [  4961.,   3784.,   3967.,   4668.,   4705.,   4989.,   4605.,\n",
       "          5016.,   4607.,   4671.,   5061.,   5908.],\n",
       "       [  7107.,   4283.,   3522.,   4044.,   5243.,   7759.,   5748.,\n",
       "          4054.,   4662.,   4662.,   4426.,   4633.],\n",
       "       [  4462.,   3906.,   5069.,   4531.,   4582.,   4111.,   4165.,\n",
       "          3917.,   4880.,   4346.,   4041.,   3217.],\n",
       "       [  5464.,   5627.,   4384.,   4112.,   3809.,   4688.,   4655.,\n",
       "          3650.,   3925.,  28013.,  29253.,  29582.]])"
      ]
     },
     "execution_count": 7,
     "metadata": {},
     "output_type": "execute_result"
    }
   ],
   "source": [
    "readPlate(read, 36)"
   ]
  },
  {
   "cell_type": "code",
   "execution_count": 8,
   "metadata": {
    "collapsed": false
   },
   "outputs": [
    {
     "data": {
      "text/plain": [
       "array([[ 25386.,  20823.,  21310.,  23226.,  21077.,  23416.,  21139.,\n",
       "         22382.,  29034.,  22155.,  23189.,  20868.],\n",
       "       [ 21956.,  23143.,  21927.,  20774.,  20379.,  22115.,  21913.,\n",
       "         21479.,  20712.,  21162.,  24108.,  19548.],\n",
       "       [ 33122.,  20318.,  22968.,  20900.,  20130.,  21736.,  20205.,\n",
       "         27239.,  21484.,  20628.,  23277.,  23634.],\n",
       "       [ 21493.,  25746.,  24405.,  22876.,  27636.,  21945.,  24254.,\n",
       "         25211.,  24127.,  20495.,  20743.,  20793.],\n",
       "       [ 22136.,  19682.,  19713.,  19901.,  23398.,  21508.,  20978.,\n",
       "         21934.,  20435.,  22058.,  21023.,  28136.],\n",
       "       [ 20542.,  21462.,  19706.,  20584.,  24527.,  27999.,  23953.,\n",
       "         22196.,  23252.,  23433.,  24606.,  22406.],\n",
       "       [ 20419.,  20087.,  22247.,  20670.,  20018.,  21292.,  20081.,\n",
       "         20428.,  22260.,  20785.,  21575.,  21532.],\n",
       "       [ 21374.,  24934.,  19825.,  19963.,  19279.,  19034.,  19933.,\n",
       "         20249.,  21203.,  31340.,  28922.,  29218.]])"
      ]
     },
     "execution_count": 8,
     "metadata": {},
     "output_type": "execute_result"
    }
   ],
   "source": [
    "readPlate(read, 74)"
   ]
  },
  {
   "cell_type": "markdown",
   "metadata": {},
   "source": [
    "All we need to do now is to parse it into a pandas dataframe. To do that, it is helpful to reshape this numpy array into a single line."
   ]
  },
  {
   "cell_type": "code",
   "execution_count": 10,
   "metadata": {
    "collapsed": true
   },
   "outputs": [],
   "source": [
    "? np.reshape"
   ]
  },
  {
   "cell_type": "code",
   "execution_count": 11,
   "metadata": {
    "collapsed": false
   },
   "outputs": [
    {
     "name": "stdout",
     "output_type": "stream",
     "text": [
      "(8, 12)\n"
     ]
    },
    {
     "data": {
      "text/plain": [
       "array([ 25386.,  20823.,  21310.,  23226.,  21077.,  23416.,  21139.,\n",
       "        22382.,  29034.,  22155.,  23189.,  20868.,  21956.,  23143.,\n",
       "        21927.,  20774.,  20379.,  22115.,  21913.,  21479.,  20712.,\n",
       "        21162.,  24108.,  19548.,  33122.,  20318.,  22968.,  20900.,\n",
       "        20130.,  21736.,  20205.,  27239.,  21484.,  20628.,  23277.,\n",
       "        23634.,  21493.,  25746.,  24405.,  22876.,  27636.,  21945.,\n",
       "        24254.,  25211.,  24127.,  20495.,  20743.,  20793.,  22136.,\n",
       "        19682.,  19713.,  19901.,  23398.,  21508.,  20978.,  21934.,\n",
       "        20435.,  22058.,  21023.,  28136.,  20542.,  21462.,  19706.,\n",
       "        20584.,  24527.,  27999.,  23953.,  22196.,  23252.,  23433.,\n",
       "        24606.,  22406.,  20419.,  20087.,  22247.,  20670.,  20018.,\n",
       "        21292.,  20081.,  20428.,  22260.,  20785.,  21575.,  21532.,\n",
       "        21374.,  24934.,  19825.,  19963.,  19279.,  19034.,  19933.,\n",
       "        20249.,  21203.,  31340.,  28922.,  29218.])"
      ]
     },
     "execution_count": 11,
     "metadata": {},
     "output_type": "execute_result"
    }
   ],
   "source": [
    "X = readPlate(read, 74)\n",
    "print X.shape\n",
    "\n",
    "np.reshape(X, (X.shape[0]*X.shape[1]) )"
   ]
  },
  {
   "cell_type": "code",
   "execution_count": null,
   "metadata": {
    "collapsed": true
   },
   "outputs": [],
   "source": []
  }
 ],
 "metadata": {
  "kernelspec": {
   "display_name": "Python 2",
   "language": "python",
   "name": "python2"
  },
  "language_info": {
   "codemirror_mode": {
    "name": "ipython",
    "version": 2
   },
   "file_extension": ".py",
   "mimetype": "text/x-python",
   "name": "python",
   "nbconvert_exporter": "python",
   "pygments_lexer": "ipython2",
   "version": "2.7.11"
  }
 },
 "nbformat": 4,
 "nbformat_minor": 0
}
