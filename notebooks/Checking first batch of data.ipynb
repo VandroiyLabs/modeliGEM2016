{
 "cells": [
  {
   "cell_type": "code",
   "execution_count": 1,
   "metadata": {
    "collapsed": true
   },
   "outputs": [],
   "source": [
    "import numpy as np\n",
    "import pylab as pl\n",
    "%matplotlib inline"
   ]
  },
  {
   "cell_type": "code",
   "execution_count": 2,
   "metadata": {
    "collapsed": true
   },
   "outputs": [],
   "source": [
    "dataset_folder = \"../datasets/\""
   ]
  },
  {
   "cell_type": "code",
   "execution_count": 3,
   "metadata": {
    "collapsed": false
   },
   "outputs": [],
   "source": [
    "import sys\n",
    "sys.path.insert(0, '../platemate/src/')\n",
    "import platemate as pm"
   ]
  },
  {
   "cell_type": "code",
   "execution_count": 4,
   "metadata": {
    "collapsed": true
   },
   "outputs": [],
   "source": [
    "ColumnNames = {\n",
    "    \"Z10M\" : \"A\",\n",
    "    \"Z5M\"  : \"B\",\n",
    "    \"Z10A\" : [\"C1\",\"C4\"],\n",
    "    \"Z5A\"  : [\"C5\",\"C12\",\"D1\",\"D12\"],\n",
    "    \"Z10T\" : [\"E1\",\"E4\"],\n",
    "    \"Z5T\"  : [\"E5\",\"E12\",\"F1\",\"F12\"],\n",
    "    \"Z5S\"  : [\"G\"]\n",
    "    }\n",
    "\n",
    "controlNames = {\n",
    "    \"cc1690\"  : [\"H1\",\"H6\"],\n",
    "    \"TAP\"     : [\"H7\",\"H9\"],\n",
    "    \"mcherry\" : [\"H10\",\"H12\"]\n",
    "    }\n"
   ]
  },
  {
   "cell_type": "code",
   "execution_count": 115,
   "metadata": {
    "collapsed": false
   },
   "outputs": [],
   "source": [
    "reload(pm)\n",
    "experiment = pm.PlateMate( colonyMap = ColumnNames, controlMap = controlNames )"
   ]
  },
  {
   "cell_type": "markdown",
   "metadata": {},
   "source": [
    "Confirming that PlateMate is now aware of the colony names."
   ]
  },
  {
   "cell_type": "code",
   "execution_count": 116,
   "metadata": {
    "collapsed": false
   },
   "outputs": [
    {
     "name": "stdout",
     "output_type": "stream",
     "text": [
      "['Z5S', 'Z10A', 'Z5T', 'Z10M', 'Z5A', 'Z10T', 'Z5M']\n"
     ]
    }
   ],
   "source": [
    "print experiment.getColonyNames()"
   ]
  },
  {
   "cell_type": "markdown",
   "metadata": {},
   "source": [
    "Finding the files to be read"
   ]
  },
  {
   "cell_type": "code",
   "execution_count": 117,
   "metadata": {
    "collapsed": false
   },
   "outputs": [
    {
     "name": "stdout",
     "output_type": "stream",
     "text": [
      "['../datasets/20161003 pJP22mcherry 01.xlsx'\n",
      " '../datasets/20161003 pJP22mcherry 02.xlsx'\n",
      " '../datasets/20161003 pJP22mcherry 03.xlsx']\n"
     ]
    }
   ],
   "source": [
    "experiment.findFiles(\"20161003 pJP22mcherry\", extension = \"xlsx\", path = dataset_folder)\n",
    "print experiment.FLlist"
   ]
  },
  {
   "cell_type": "markdown",
   "metadata": {},
   "source": [
    "Reading mcherry channel:"
   ]
  },
  {
   "cell_type": "code",
   "execution_count": 118,
   "metadata": {
    "collapsed": false
   },
   "outputs": [
    {
     "data": {
      "text/html": [
       "<div>\n",
       "<table border=\"1\" class=\"dataframe\">\n",
       "  <thead>\n",
       "    <tr style=\"text-align: right;\">\n",
       "      <th></th>\n",
       "      <th>A00</th>\n",
       "      <th>A01</th>\n",
       "      <th>A02</th>\n",
       "      <th>A03</th>\n",
       "      <th>A04</th>\n",
       "      <th>A05</th>\n",
       "      <th>A06</th>\n",
       "      <th>A07</th>\n",
       "      <th>A08</th>\n",
       "      <th>A09</th>\n",
       "      <th>...</th>\n",
       "      <th>H02</th>\n",
       "      <th>H03</th>\n",
       "      <th>H04</th>\n",
       "      <th>H05</th>\n",
       "      <th>H06</th>\n",
       "      <th>H07</th>\n",
       "      <th>H08</th>\n",
       "      <th>H09</th>\n",
       "      <th>H10</th>\n",
       "      <th>H11</th>\n",
       "    </tr>\n",
       "  </thead>\n",
       "  <tbody>\n",
       "    <tr>\n",
       "      <th>0</th>\n",
       "      <td>5906</td>\n",
       "      <td>4512</td>\n",
       "      <td>4368</td>\n",
       "      <td>5048</td>\n",
       "      <td>4359</td>\n",
       "      <td>4401</td>\n",
       "      <td>4593</td>\n",
       "      <td>5385</td>\n",
       "      <td>21265</td>\n",
       "      <td>4597</td>\n",
       "      <td>...</td>\n",
       "      <td>4384</td>\n",
       "      <td>4112</td>\n",
       "      <td>3809</td>\n",
       "      <td>4688</td>\n",
       "      <td>4655</td>\n",
       "      <td>3650</td>\n",
       "      <td>3925</td>\n",
       "      <td>28013</td>\n",
       "      <td>29253</td>\n",
       "      <td>29582</td>\n",
       "    </tr>\n",
       "    <tr>\n",
       "      <th>1</th>\n",
       "      <td>3787</td>\n",
       "      <td>2659</td>\n",
       "      <td>2625</td>\n",
       "      <td>3443</td>\n",
       "      <td>3499</td>\n",
       "      <td>3463</td>\n",
       "      <td>2965</td>\n",
       "      <td>2913</td>\n",
       "      <td>2970</td>\n",
       "      <td>4617</td>\n",
       "      <td>...</td>\n",
       "      <td>4019</td>\n",
       "      <td>5072</td>\n",
       "      <td>4472</td>\n",
       "      <td>2518</td>\n",
       "      <td>5684</td>\n",
       "      <td>5602</td>\n",
       "      <td>5116</td>\n",
       "      <td>14484</td>\n",
       "      <td>14418</td>\n",
       "      <td>15222</td>\n",
       "    </tr>\n",
       "    <tr>\n",
       "      <th>2</th>\n",
       "      <td>3529</td>\n",
       "      <td>3618</td>\n",
       "      <td>3294</td>\n",
       "      <td>3715</td>\n",
       "      <td>3618</td>\n",
       "      <td>3813</td>\n",
       "      <td>4163</td>\n",
       "      <td>4105</td>\n",
       "      <td>4290</td>\n",
       "      <td>3855</td>\n",
       "      <td>...</td>\n",
       "      <td>3448</td>\n",
       "      <td>5788</td>\n",
       "      <td>4834</td>\n",
       "      <td>3485</td>\n",
       "      <td>5926</td>\n",
       "      <td>4888</td>\n",
       "      <td>5125</td>\n",
       "      <td>19756</td>\n",
       "      <td>19817</td>\n",
       "      <td>19479</td>\n",
       "    </tr>\n",
       "  </tbody>\n",
       "</table>\n",
       "<p>3 rows × 96 columns</p>\n",
       "</div>"
      ],
      "text/plain": [
       "    A00   A01   A02   A03   A04   A05   A06   A07    A08   A09  ...     H02  \\\n",
       "0  5906  4512  4368  5048  4359  4401  4593  5385  21265  4597  ...    4384   \n",
       "1  3787  2659  2625  3443  3499  3463  2965  2913   2970  4617  ...    4019   \n",
       "2  3529  3618  3294  3715  3618  3813  4163  4105   4290  3855  ...    3448   \n",
       "\n",
       "    H03   H04   H05   H06   H07   H08    H09    H10    H11  \n",
       "0  4112  3809  4688  4655  3650  3925  28013  29253  29582  \n",
       "1  5072  4472  2518  5684  5602  5116  14484  14418  15222  \n",
       "2  5788  4834  3485  5926  4888  5125  19756  19817  19479  \n",
       "\n",
       "[3 rows x 96 columns]"
      ]
     },
     "execution_count": 118,
     "metadata": {},
     "output_type": "execute_result"
    }
   ],
   "source": [
    "experiment.readfromSpreadSheet(\"mCherry\", 36)\n",
    "experiment.FLdata[\"mCherry\"]"
   ]
  },
  {
   "cell_type": "markdown",
   "metadata": {},
   "source": [
    "Reading the blue channel"
   ]
  },
  {
   "cell_type": "code",
   "execution_count": 119,
   "metadata": {
    "collapsed": false
   },
   "outputs": [
    {
     "data": {
      "text/html": [
       "<div>\n",
       "<table border=\"1\" class=\"dataframe\">\n",
       "  <thead>\n",
       "    <tr style=\"text-align: right;\">\n",
       "      <th></th>\n",
       "      <th>A00</th>\n",
       "      <th>A01</th>\n",
       "      <th>A02</th>\n",
       "      <th>A03</th>\n",
       "      <th>A04</th>\n",
       "      <th>A05</th>\n",
       "      <th>A06</th>\n",
       "      <th>A07</th>\n",
       "      <th>A08</th>\n",
       "      <th>A09</th>\n",
       "      <th>...</th>\n",
       "      <th>H02</th>\n",
       "      <th>H03</th>\n",
       "      <th>H04</th>\n",
       "      <th>H05</th>\n",
       "      <th>H06</th>\n",
       "      <th>H07</th>\n",
       "      <th>H08</th>\n",
       "      <th>H09</th>\n",
       "      <th>H10</th>\n",
       "      <th>H11</th>\n",
       "    </tr>\n",
       "  </thead>\n",
       "  <tbody>\n",
       "    <tr>\n",
       "      <th>0</th>\n",
       "      <td>25386</td>\n",
       "      <td>20823</td>\n",
       "      <td>21310</td>\n",
       "      <td>23226</td>\n",
       "      <td>21077</td>\n",
       "      <td>23416</td>\n",
       "      <td>21139</td>\n",
       "      <td>22382</td>\n",
       "      <td>29034</td>\n",
       "      <td>22155</td>\n",
       "      <td>...</td>\n",
       "      <td>19825</td>\n",
       "      <td>19963</td>\n",
       "      <td>19279</td>\n",
       "      <td>19034</td>\n",
       "      <td>19933</td>\n",
       "      <td>20249</td>\n",
       "      <td>21203</td>\n",
       "      <td>31340</td>\n",
       "      <td>28922</td>\n",
       "      <td>29218</td>\n",
       "    </tr>\n",
       "    <tr>\n",
       "      <th>1</th>\n",
       "      <td>14906</td>\n",
       "      <td>11427</td>\n",
       "      <td>12442</td>\n",
       "      <td>18068</td>\n",
       "      <td>13824</td>\n",
       "      <td>12595</td>\n",
       "      <td>13698</td>\n",
       "      <td>14535</td>\n",
       "      <td>16830</td>\n",
       "      <td>20082</td>\n",
       "      <td>...</td>\n",
       "      <td>13341</td>\n",
       "      <td>20806</td>\n",
       "      <td>13916</td>\n",
       "      <td>10940</td>\n",
       "      <td>21808</td>\n",
       "      <td>23044</td>\n",
       "      <td>21977</td>\n",
       "      <td>19761</td>\n",
       "      <td>18990</td>\n",
       "      <td>18878</td>\n",
       "    </tr>\n",
       "    <tr>\n",
       "      <th>2</th>\n",
       "      <td>16824</td>\n",
       "      <td>17392</td>\n",
       "      <td>18923</td>\n",
       "      <td>20759</td>\n",
       "      <td>18056</td>\n",
       "      <td>18619</td>\n",
       "      <td>18373</td>\n",
       "      <td>18354</td>\n",
       "      <td>18461</td>\n",
       "      <td>20591</td>\n",
       "      <td>...</td>\n",
       "      <td>15584</td>\n",
       "      <td>21946</td>\n",
       "      <td>15539</td>\n",
       "      <td>13462</td>\n",
       "      <td>24543</td>\n",
       "      <td>23291</td>\n",
       "      <td>24765</td>\n",
       "      <td>25099</td>\n",
       "      <td>24867</td>\n",
       "      <td>24576</td>\n",
       "    </tr>\n",
       "  </tbody>\n",
       "</table>\n",
       "<p>3 rows × 96 columns</p>\n",
       "</div>"
      ],
      "text/plain": [
       "     A00    A01    A02    A03    A04    A05    A06    A07    A08    A09  \\\n",
       "0  25386  20823  21310  23226  21077  23416  21139  22382  29034  22155   \n",
       "1  14906  11427  12442  18068  13824  12595  13698  14535  16830  20082   \n",
       "2  16824  17392  18923  20759  18056  18619  18373  18354  18461  20591   \n",
       "\n",
       "   ...      H02    H03    H04    H05    H06    H07    H08    H09    H10    H11  \n",
       "0  ...    19825  19963  19279  19034  19933  20249  21203  31340  28922  29218  \n",
       "1  ...    13341  20806  13916  10940  21808  23044  21977  19761  18990  18878  \n",
       "2  ...    15584  21946  15539  13462  24543  23291  24765  25099  24867  24576  \n",
       "\n",
       "[3 rows x 96 columns]"
      ]
     },
     "execution_count": 119,
     "metadata": {},
     "output_type": "execute_result"
    }
   ],
   "source": [
    "experiment.readfromSpreadSheet(\"Blue\", 74)\n",
    "experiment.FLdata[\"Blue\"]"
   ]
  },
  {
   "cell_type": "markdown",
   "metadata": {},
   "source": [
    "Reading the absorbance"
   ]
  },
  {
   "cell_type": "code",
   "execution_count": 120,
   "metadata": {
    "collapsed": false
   },
   "outputs": [
    {
     "data": {
      "text/html": [
       "<div>\n",
       "<table border=\"1\" class=\"dataframe\">\n",
       "  <thead>\n",
       "    <tr style=\"text-align: right;\">\n",
       "      <th></th>\n",
       "      <th>A00</th>\n",
       "      <th>A01</th>\n",
       "      <th>A02</th>\n",
       "      <th>A03</th>\n",
       "      <th>A04</th>\n",
       "      <th>A05</th>\n",
       "      <th>A06</th>\n",
       "      <th>A07</th>\n",
       "      <th>A08</th>\n",
       "      <th>A09</th>\n",
       "      <th>...</th>\n",
       "      <th>H02</th>\n",
       "      <th>H03</th>\n",
       "      <th>H04</th>\n",
       "      <th>H05</th>\n",
       "      <th>H06</th>\n",
       "      <th>H07</th>\n",
       "      <th>H08</th>\n",
       "      <th>H09</th>\n",
       "      <th>H10</th>\n",
       "      <th>H11</th>\n",
       "    </tr>\n",
       "  </thead>\n",
       "  <tbody>\n",
       "    <tr>\n",
       "      <th>0</th>\n",
       "      <td>0.1156</td>\n",
       "      <td>0.1004</td>\n",
       "      <td>0.0967</td>\n",
       "      <td>0.0961</td>\n",
       "      <td>0.0996</td>\n",
       "      <td>0.1148</td>\n",
       "      <td>0.1024</td>\n",
       "      <td>0.1016</td>\n",
       "      <td>0.1337</td>\n",
       "      <td>0.1071</td>\n",
       "      <td>...</td>\n",
       "      <td>0.1174</td>\n",
       "      <td>0.1153</td>\n",
       "      <td>0.1207</td>\n",
       "      <td>0.1234</td>\n",
       "      <td>0.0966</td>\n",
       "      <td>0.0939</td>\n",
       "      <td>0.0891</td>\n",
       "      <td>0.1011</td>\n",
       "      <td>0.0972</td>\n",
       "      <td>0.0985</td>\n",
       "    </tr>\n",
       "    <tr>\n",
       "      <th>1</th>\n",
       "      <td>0.4222</td>\n",
       "      <td>0.1800</td>\n",
       "      <td>0.2405</td>\n",
       "      <td>0.1133</td>\n",
       "      <td>0.2486</td>\n",
       "      <td>0.2406</td>\n",
       "      <td>0.2068</td>\n",
       "      <td>0.1723</td>\n",
       "      <td>0.1048</td>\n",
       "      <td>0.0936</td>\n",
       "      <td>...</td>\n",
       "      <td>0.1864</td>\n",
       "      <td>0.1574</td>\n",
       "      <td>0.1791</td>\n",
       "      <td>0.2360</td>\n",
       "      <td>0.1063</td>\n",
       "      <td>0.1027</td>\n",
       "      <td>0.0999</td>\n",
       "      <td>0.1369</td>\n",
       "      <td>0.1578</td>\n",
       "      <td>0.1180</td>\n",
       "    </tr>\n",
       "    <tr>\n",
       "      <th>2</th>\n",
       "      <td>0.1408</td>\n",
       "      <td>0.1132</td>\n",
       "      <td>0.1051</td>\n",
       "      <td>0.1080</td>\n",
       "      <td>0.1101</td>\n",
       "      <td>0.1145</td>\n",
       "      <td>0.1001</td>\n",
       "      <td>0.0999</td>\n",
       "      <td>0.0963</td>\n",
       "      <td>0.0920</td>\n",
       "      <td>...</td>\n",
       "      <td>0.1668</td>\n",
       "      <td>0.1269</td>\n",
       "      <td>0.1797</td>\n",
       "      <td>0.2060</td>\n",
       "      <td>0.0936</td>\n",
       "      <td>0.0926</td>\n",
       "      <td>0.0900</td>\n",
       "      <td>0.1996</td>\n",
       "      <td>0.1923</td>\n",
       "      <td>0.2061</td>\n",
       "    </tr>\n",
       "  </tbody>\n",
       "</table>\n",
       "<p>3 rows × 96 columns</p>\n",
       "</div>"
      ],
      "text/plain": [
       "      A00     A01     A02     A03     A04     A05     A06     A07     A08  \\\n",
       "0  0.1156  0.1004  0.0967  0.0961  0.0996  0.1148  0.1024  0.1016  0.1337   \n",
       "1  0.4222  0.1800  0.2405  0.1133  0.2486  0.2406  0.2068  0.1723  0.1048   \n",
       "2  0.1408  0.1132  0.1051  0.1080  0.1101  0.1145  0.1001  0.0999  0.0963   \n",
       "\n",
       "      A09   ...       H02     H03     H04     H05     H06     H07     H08  \\\n",
       "0  0.1071   ...    0.1174  0.1153  0.1207  0.1234  0.0966  0.0939  0.0891   \n",
       "1  0.0936   ...    0.1864  0.1574  0.1791  0.2360  0.1063  0.1027  0.0999   \n",
       "2  0.0920   ...    0.1668  0.1269  0.1797  0.2060  0.0936  0.0926  0.0900   \n",
       "\n",
       "      H09     H10     H11  \n",
       "0  0.1011  0.0972  0.0985  \n",
       "1  0.1369  0.1578  0.1180  \n",
       "2  0.1996  0.1923  0.2061  \n",
       "\n",
       "[3 rows x 96 columns]"
      ]
     },
     "execution_count": 120,
     "metadata": {},
     "output_type": "execute_result"
    }
   ],
   "source": [
    "experiment.readfromSpreadSheet(\"OD\",106)\n",
    "experiment.FLdata[\"OD\"]"
   ]
  },
  {
   "cell_type": "markdown",
   "metadata": {},
   "source": [
    "Reading the chlorophyla channel"
   ]
  },
  {
   "cell_type": "code",
   "execution_count": 121,
   "metadata": {
    "collapsed": false
   },
   "outputs": [
    {
     "data": {
      "text/html": [
       "<div>\n",
       "<table border=\"1\" class=\"dataframe\">\n",
       "  <thead>\n",
       "    <tr style=\"text-align: right;\">\n",
       "      <th></th>\n",
       "      <th>A00</th>\n",
       "      <th>A01</th>\n",
       "      <th>A02</th>\n",
       "      <th>A03</th>\n",
       "      <th>A04</th>\n",
       "      <th>A05</th>\n",
       "      <th>A06</th>\n",
       "      <th>A07</th>\n",
       "      <th>A08</th>\n",
       "      <th>A09</th>\n",
       "      <th>...</th>\n",
       "      <th>H02</th>\n",
       "      <th>H03</th>\n",
       "      <th>H04</th>\n",
       "      <th>H05</th>\n",
       "      <th>H06</th>\n",
       "      <th>H07</th>\n",
       "      <th>H08</th>\n",
       "      <th>H09</th>\n",
       "      <th>H10</th>\n",
       "      <th>H11</th>\n",
       "    </tr>\n",
       "  </thead>\n",
       "  <tbody>\n",
       "    <tr>\n",
       "      <th>0</th>\n",
       "      <td>455</td>\n",
       "      <td>482</td>\n",
       "      <td>362</td>\n",
       "      <td>416</td>\n",
       "      <td>346</td>\n",
       "      <td>530</td>\n",
       "      <td>644</td>\n",
       "      <td>152</td>\n",
       "      <td>416</td>\n",
       "      <td>265</td>\n",
       "      <td>...</td>\n",
       "      <td>862</td>\n",
       "      <td>109</td>\n",
       "      <td>971</td>\n",
       "      <td>583</td>\n",
       "      <td>9</td>\n",
       "      <td>9</td>\n",
       "      <td>9</td>\n",
       "      <td>217</td>\n",
       "      <td>230</td>\n",
       "      <td>226</td>\n",
       "    </tr>\n",
       "    <tr>\n",
       "      <th>1</th>\n",
       "      <td>1217</td>\n",
       "      <td>1054</td>\n",
       "      <td>400</td>\n",
       "      <td>880</td>\n",
       "      <td>632</td>\n",
       "      <td>371</td>\n",
       "      <td>440</td>\n",
       "      <td>430</td>\n",
       "      <td>457</td>\n",
       "      <td>200</td>\n",
       "      <td>...</td>\n",
       "      <td>1367</td>\n",
       "      <td>260</td>\n",
       "      <td>1686</td>\n",
       "      <td>1974</td>\n",
       "      <td>8</td>\n",
       "      <td>8</td>\n",
       "      <td>6</td>\n",
       "      <td>64</td>\n",
       "      <td>54</td>\n",
       "      <td>54</td>\n",
       "    </tr>\n",
       "    <tr>\n",
       "      <th>2</th>\n",
       "      <td>1215</td>\n",
       "      <td>1655</td>\n",
       "      <td>559</td>\n",
       "      <td>325</td>\n",
       "      <td>1111</td>\n",
       "      <td>594</td>\n",
       "      <td>575</td>\n",
       "      <td>380</td>\n",
       "      <td>347</td>\n",
       "      <td>210</td>\n",
       "      <td>...</td>\n",
       "      <td>2454</td>\n",
       "      <td>152</td>\n",
       "      <td>2708</td>\n",
       "      <td>4522</td>\n",
       "      <td>8</td>\n",
       "      <td>8</td>\n",
       "      <td>8</td>\n",
       "      <td>101</td>\n",
       "      <td>79</td>\n",
       "      <td>82</td>\n",
       "    </tr>\n",
       "  </tbody>\n",
       "</table>\n",
       "<p>3 rows × 96 columns</p>\n",
       "</div>"
      ],
      "text/plain": [
       "    A00   A01  A02  A03   A04  A05  A06  A07  A08  A09 ...    H02  H03   H04  \\\n",
       "0   455   482  362  416   346  530  644  152  416  265 ...    862  109   971   \n",
       "1  1217  1054  400  880   632  371  440  430  457  200 ...   1367  260  1686   \n",
       "2  1215  1655  559  325  1111  594  575  380  347  210 ...   2454  152  2708   \n",
       "\n",
       "    H05  H06  H07  H08  H09  H10  H11  \n",
       "0   583    9    9    9  217  230  226  \n",
       "1  1974    8    8    6   64   54   54  \n",
       "2  4522    8    8    8  101   79   82  \n",
       "\n",
       "[3 rows x 96 columns]"
      ]
     },
     "execution_count": 121,
     "metadata": {},
     "output_type": "execute_result"
    }
   ],
   "source": [
    "experiment.readfromSpreadSheet(\"Chloro\", 144)\n",
    "experiment.FLdata[\"Chloro\"]"
   ]
  },
  {
   "cell_type": "markdown",
   "metadata": {},
   "source": [
    "Now, let's use platemate API to access only the data from Z5S for each channel:"
   ]
  },
  {
   "cell_type": "code",
   "execution_count": 122,
   "metadata": {
    "collapsed": false
   },
   "outputs": [
    {
     "data": {
      "text/html": [
       "<div>\n",
       "<table border=\"1\" class=\"dataframe\">\n",
       "  <thead>\n",
       "    <tr style=\"text-align: right;\">\n",
       "      <th></th>\n",
       "      <th>G01</th>\n",
       "      <th>G02</th>\n",
       "      <th>G03</th>\n",
       "      <th>G04</th>\n",
       "      <th>G05</th>\n",
       "      <th>G06</th>\n",
       "      <th>G07</th>\n",
       "      <th>G08</th>\n",
       "      <th>G09</th>\n",
       "    </tr>\n",
       "  </thead>\n",
       "  <tbody>\n",
       "    <tr>\n",
       "      <th>0</th>\n",
       "      <td>3906</td>\n",
       "      <td>5069</td>\n",
       "      <td>4531</td>\n",
       "      <td>4582</td>\n",
       "      <td>4111</td>\n",
       "      <td>4165</td>\n",
       "      <td>3917</td>\n",
       "      <td>4880</td>\n",
       "      <td>4346</td>\n",
       "    </tr>\n",
       "    <tr>\n",
       "      <th>1</th>\n",
       "      <td>3490</td>\n",
       "      <td>2942</td>\n",
       "      <td>4145</td>\n",
       "      <td>3420</td>\n",
       "      <td>4110</td>\n",
       "      <td>4821</td>\n",
       "      <td>4860</td>\n",
       "      <td>5352</td>\n",
       "      <td>6378</td>\n",
       "    </tr>\n",
       "    <tr>\n",
       "      <th>2</th>\n",
       "      <td>4737</td>\n",
       "      <td>4536</td>\n",
       "      <td>4729</td>\n",
       "      <td>3949</td>\n",
       "      <td>4679</td>\n",
       "      <td>4853</td>\n",
       "      <td>5345</td>\n",
       "      <td>5057</td>\n",
       "      <td>5287</td>\n",
       "    </tr>\n",
       "  </tbody>\n",
       "</table>\n",
       "</div>"
      ],
      "text/plain": [
       "    G01   G02   G03   G04   G05   G06   G07   G08   G09\n",
       "0  3906  5069  4531  4582  4111  4165  3917  4880  4346\n",
       "1  3490  2942  4145  3420  4110  4821  4860  5352  6378\n",
       "2  4737  4536  4729  3949  4679  4853  5345  5057  5287"
      ]
     },
     "execution_count": 122,
     "metadata": {},
     "output_type": "execute_result"
    }
   ],
   "source": [
    "experiment.getFluorescence(\"Z5S\",\"mCherry\")"
   ]
  },
  {
   "cell_type": "code",
   "execution_count": null,
   "metadata": {
    "collapsed": true
   },
   "outputs": [],
   "source": []
  }
 ],
 "metadata": {
  "kernelspec": {
   "display_name": "Python 2",
   "language": "python",
   "name": "python2"
  },
  "language_info": {
   "codemirror_mode": {
    "name": "ipython",
    "version": 2
   },
   "file_extension": ".py",
   "mimetype": "text/x-python",
   "name": "python",
   "nbconvert_exporter": "python",
   "pygments_lexer": "ipython2",
   "version": "2.7.11"
  }
 },
 "nbformat": 4,
 "nbformat_minor": 0
}
