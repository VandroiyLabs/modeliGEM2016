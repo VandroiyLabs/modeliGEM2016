{
 "cells": [
  {
   "cell_type": "code",
   "execution_count": 33,
   "metadata": {
    "collapsed": true
   },
   "outputs": [],
   "source": [
    "import numpy as np\n",
    "import pylab as pl\n",
    "%matplotlib inline"
   ]
  },
  {
   "cell_type": "code",
   "execution_count": 34,
   "metadata": {
    "collapsed": true
   },
   "outputs": [],
   "source": [
    "dataset_folder = \"../datasets/\""
   ]
  },
  {
   "cell_type": "code",
   "execution_count": 35,
   "metadata": {
    "collapsed": false
   },
   "outputs": [],
   "source": [
    "import sys\n",
    "sys.path.insert(0, '../platemate/src/')\n",
    "import platemate as pm"
   ]
  },
  {
   "cell_type": "code",
   "execution_count": 36,
   "metadata": {
    "collapsed": true
   },
   "outputs": [],
   "source": [
    "ColumnNames = {\n",
    "    \"Z10M\" : \"A\",\n",
    "    \"Z5M\"  : \"B\",\n",
    "    \"Z10A\" : [\"C1\",\"C4\"],\n",
    "    \"Z5A\"  : [\"C5\",\"C12\",\"D1\",\"D12\"],\n",
    "    \"Z10T\" : [\"E1\",\"E4\"],\n",
    "    \"Z5T\"  : [\"E5\",\"E12\",\"F1\",\"F12\"],\n",
    "    \"Z5S\"  : [\"G\"]\n",
    "    }\n",
    "\n",
    "controlNames = {\n",
    "    \"cc1690\"  : [\"H1\",\"H6\"],\n",
    "    \"TAP\"     : [\"H7\",\"H9\"],\n",
    "    \"mcherry\" : [\"H10\",\"H12\"]\n",
    "    }\n"
   ]
  },
  {
   "cell_type": "code",
   "execution_count": 212,
   "metadata": {
    "collapsed": false
   },
   "outputs": [],
   "source": [
    "reload(pm)\n",
    "experiment = pm.PlateMate( colonyMap = ColumnNames, controlMap = controlNames )"
   ]
  },
  {
   "cell_type": "markdown",
   "metadata": {},
   "source": [
    "Confirming that PlateMate is now aware of the colony names."
   ]
  },
  {
   "cell_type": "code",
   "execution_count": 213,
   "metadata": {
    "collapsed": false
   },
   "outputs": [
    {
     "name": "stdout",
     "output_type": "stream",
     "text": [
      "['Z5S', 'Z10A', 'Z5T', 'Z10M', 'Z5A', 'Z10T', 'Z5M']\n"
     ]
    }
   ],
   "source": [
    "print experiment.getColonyNames()"
   ]
  },
  {
   "cell_type": "markdown",
   "metadata": {},
   "source": [
    "Finding the files to be read"
   ]
  },
  {
   "cell_type": "code",
   "execution_count": 214,
   "metadata": {
    "collapsed": false
   },
   "outputs": [
    {
     "name": "stdout",
     "output_type": "stream",
     "text": [
      "['../datasets/20161003 pJP22mcherry 01.xlsx'\n",
      " '../datasets/20161003 pJP22mcherry 02.xlsx'\n",
      " '../datasets/20161003 pJP22mcherry 03.xlsx']\n"
     ]
    }
   ],
   "source": [
    "experiment.findFiles(\"20161003 pJP22mcherry\", extension = \"xlsx\", path = dataset_folder)\n",
    "print experiment.FLlist"
   ]
  },
  {
   "cell_type": "code",
   "execution_count": 215,
   "metadata": {
    "collapsed": false
   },
   "outputs": [
    {
     "name": "stdout",
     "output_type": "stream",
     "text": [
      "../datasets/20161003 pJP22mcherry 01.xlsx\n",
      "(1, 96)\n",
      "../datasets/20161003 pJP22mcherry 02.xlsx\n",
      "(2, 96)\n",
      "../datasets/20161003 pJP22mcherry 03.xlsx\n",
      "(3, 96)\n"
     ]
    },
    {
     "data": {
      "text/html": [
       "<div>\n",
       "<table border=\"1\" class=\"dataframe\">\n",
       "  <thead>\n",
       "    <tr style=\"text-align: right;\">\n",
       "      <th></th>\n",
       "      <th>A00</th>\n",
       "      <th>A01</th>\n",
       "      <th>A02</th>\n",
       "      <th>A03</th>\n",
       "      <th>A04</th>\n",
       "      <th>A05</th>\n",
       "      <th>A06</th>\n",
       "      <th>A07</th>\n",
       "      <th>A08</th>\n",
       "      <th>A09</th>\n",
       "      <th>...</th>\n",
       "      <th>H02</th>\n",
       "      <th>H03</th>\n",
       "      <th>H04</th>\n",
       "      <th>H05</th>\n",
       "      <th>H06</th>\n",
       "      <th>H07</th>\n",
       "      <th>H08</th>\n",
       "      <th>H09</th>\n",
       "      <th>H10</th>\n",
       "      <th>H11</th>\n",
       "    </tr>\n",
       "  </thead>\n",
       "  <tbody>\n",
       "    <tr>\n",
       "      <th>0</th>\n",
       "      <td>5906</td>\n",
       "      <td>4512</td>\n",
       "      <td>4368</td>\n",
       "      <td>5048</td>\n",
       "      <td>4359</td>\n",
       "      <td>4401</td>\n",
       "      <td>4593</td>\n",
       "      <td>5385</td>\n",
       "      <td>21265</td>\n",
       "      <td>4597</td>\n",
       "      <td>...</td>\n",
       "      <td>4384</td>\n",
       "      <td>4112</td>\n",
       "      <td>3809</td>\n",
       "      <td>4688</td>\n",
       "      <td>4655</td>\n",
       "      <td>3650</td>\n",
       "      <td>3925</td>\n",
       "      <td>28013</td>\n",
       "      <td>29253</td>\n",
       "      <td>29582</td>\n",
       "    </tr>\n",
       "    <tr>\n",
       "      <th>1</th>\n",
       "      <td>3787</td>\n",
       "      <td>2659</td>\n",
       "      <td>2625</td>\n",
       "      <td>3443</td>\n",
       "      <td>3499</td>\n",
       "      <td>3463</td>\n",
       "      <td>2965</td>\n",
       "      <td>2913</td>\n",
       "      <td>2970</td>\n",
       "      <td>4617</td>\n",
       "      <td>...</td>\n",
       "      <td>4019</td>\n",
       "      <td>5072</td>\n",
       "      <td>4472</td>\n",
       "      <td>2518</td>\n",
       "      <td>5684</td>\n",
       "      <td>5602</td>\n",
       "      <td>5116</td>\n",
       "      <td>14484</td>\n",
       "      <td>14418</td>\n",
       "      <td>15222</td>\n",
       "    </tr>\n",
       "    <tr>\n",
       "      <th>2</th>\n",
       "      <td>3529</td>\n",
       "      <td>3618</td>\n",
       "      <td>3294</td>\n",
       "      <td>3715</td>\n",
       "      <td>3618</td>\n",
       "      <td>3813</td>\n",
       "      <td>4163</td>\n",
       "      <td>4105</td>\n",
       "      <td>4290</td>\n",
       "      <td>3855</td>\n",
       "      <td>...</td>\n",
       "      <td>3448</td>\n",
       "      <td>5788</td>\n",
       "      <td>4834</td>\n",
       "      <td>3485</td>\n",
       "      <td>5926</td>\n",
       "      <td>4888</td>\n",
       "      <td>5125</td>\n",
       "      <td>19756</td>\n",
       "      <td>19817</td>\n",
       "      <td>19479</td>\n",
       "    </tr>\n",
       "  </tbody>\n",
       "</table>\n",
       "<p>3 rows × 96 columns</p>\n",
       "</div>"
      ],
      "text/plain": [
       "    A00   A01   A02   A03   A04   A05   A06   A07    A08   A09  ...     H02  \\\n",
       "0  5906  4512  4368  5048  4359  4401  4593  5385  21265  4597  ...    4384   \n",
       "1  3787  2659  2625  3443  3499  3463  2965  2913   2970  4617  ...    4019   \n",
       "2  3529  3618  3294  3715  3618  3813  4163  4105   4290  3855  ...    3448   \n",
       "\n",
       "    H03   H04   H05   H06   H07   H08    H09    H10    H11  \n",
       "0  4112  3809  4688  4655  3650  3925  28013  29253  29582  \n",
       "1  5072  4472  2518  5684  5602  5116  14484  14418  15222  \n",
       "2  5788  4834  3485  5926  4888  5125  19756  19817  19479  \n",
       "\n",
       "[3 rows x 96 columns]"
      ]
     },
     "execution_count": 215,
     "metadata": {},
     "output_type": "execute_result"
    }
   ],
   "source": [
    "experiment.readfromSpreadSheet(36)"
   ]
  },
  {
   "cell_type": "code",
   "execution_count": null,
   "metadata": {
    "collapsed": true
   },
   "outputs": [],
   "source": []
  },
  {
   "cell_type": "code",
   "execution_count": null,
   "metadata": {
    "collapsed": true
   },
   "outputs": [],
   "source": []
  }
 ],
 "metadata": {
  "kernelspec": {
   "display_name": "Python 2",
   "language": "python",
   "name": "python2"
  },
  "language_info": {
   "codemirror_mode": {
    "name": "ipython",
    "version": 2
   },
   "file_extension": ".py",
   "mimetype": "text/x-python",
   "name": "python",
   "nbconvert_exporter": "python",
   "pygments_lexer": "ipython2",
   "version": "2.7.11"
  }
 },
 "nbformat": 4,
 "nbformat_minor": 0
}
