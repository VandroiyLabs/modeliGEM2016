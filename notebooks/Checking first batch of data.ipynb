{
 "cells": [
  {
   "cell_type": "code",
   "execution_count": 1,
   "metadata": {
    "collapsed": true
   },
   "outputs": [],
   "source": [
    "import numpy as np\n",
    "import pylab as pl\n",
    "%matplotlib inline"
   ]
  },
  {
   "cell_type": "code",
   "execution_count": null,
   "metadata": {
    "collapsed": true
   },
   "outputs": [],
   "source": [
    "dataset_folder = \"../datasets/\""
   ]
  },
  {
   "cell_type": "code",
   "execution_count": null,
   "metadata": {
    "collapsed": false
   },
   "outputs": [],
   "source": [
    "import sys\n",
    "sys.path.insert(0, '../platemate/src/')\n",
    "import platemate as pm"
   ]
  },
  {
   "cell_type": "code",
   "execution_count": null,
   "metadata": {
    "collapsed": true
   },
   "outputs": [],
   "source": [
    "ColumnNames = {\n",
    "    \"Z10M\" : \"A\",\n",
    "    \"Z5M\"  : \"B\",\n",
    "    \"Z10A\" : [\"C1\",\"C4\"],\n",
    "    \"Z5A\"  : [\"C5\",\"C12\",\"D1\",\"D12\"],\n",
    "    \"Z10T\" : [\"E1\",\"E4\"],\n",
    "    \"Z5T\"  : [\"E5\",\"E12\",\"F1\",\"F12\"],\n",
    "    \"Z5S\"  : [\"G\"]\n",
    "    }\n",
    "\n",
    "controlNames = {\n",
    "    \"cc1690\"  : [\"H1\",\"H6\"],\n",
    "    \"TAP\"     : [\"H7\",\"H9\"],\n",
    "    \"mcherry\" : [\"H10\",\"H12\"]\n",
    "    }\n"
   ]
  },
  {
   "cell_type": "markdown",
   "metadata": {},
   "source": [
    "## Setting up PlateMate"
   ]
  },
  {
   "cell_type": "code",
   "execution_count": null,
   "metadata": {
    "collapsed": false
   },
   "outputs": [],
   "source": [
    "reload(pm)\n",
    "experiment = pm.PlateMate( colonyMap = ColumnNames, controlMap = controlNames )"
   ]
  },
  {
   "cell_type": "markdown",
   "metadata": {},
   "source": [
    "Confirming that PlateMate is now aware of the colony names."
   ]
  },
  {
   "cell_type": "code",
   "execution_count": null,
   "metadata": {
    "collapsed": false
   },
   "outputs": [],
   "source": [
    "print experiment.getColonyNames()"
   ]
  },
  {
   "cell_type": "markdown",
   "metadata": {},
   "source": [
    "Finding the files to be read"
   ]
  },
  {
   "cell_type": "code",
   "execution_count": null,
   "metadata": {
    "collapsed": false
   },
   "outputs": [],
   "source": [
    "experiment.findFiles(\"20161003 pJP22mcherry\", extension = \"xlsx\", path = dataset_folder)\n",
    "print experiment.FLlist"
   ]
  },
  {
   "cell_type": "markdown",
   "metadata": {},
   "source": [
    "## Reading channels"
   ]
  },
  {
   "cell_type": "markdown",
   "metadata": {},
   "source": [
    "Reading mcherry channel:"
   ]
  },
  {
   "cell_type": "code",
   "execution_count": null,
   "metadata": {
    "collapsed": false
   },
   "outputs": [],
   "source": [
    "experiment.readfromSpreadSheet(\"mCherry\", 36)\n",
    "experiment.FLdata[\"mCherry\"]"
   ]
  },
  {
   "cell_type": "markdown",
   "metadata": {},
   "source": [
    "Reading the blue channel"
   ]
  },
  {
   "cell_type": "code",
   "execution_count": null,
   "metadata": {
    "collapsed": false
   },
   "outputs": [],
   "source": [
    "experiment.readfromSpreadSheet(\"Blue\", 74)\n",
    "experiment.FLdata[\"Blue\"]"
   ]
  },
  {
   "cell_type": "markdown",
   "metadata": {},
   "source": [
    "Reading the absorbance"
   ]
  },
  {
   "cell_type": "code",
   "execution_count": null,
   "metadata": {
    "collapsed": false
   },
   "outputs": [],
   "source": [
    "experiment.readfromSpreadSheet(\"OD\",106)\n",
    "experiment.FLdata[\"OD\"]"
   ]
  },
  {
   "cell_type": "markdown",
   "metadata": {},
   "source": [
    "Reading the chlorophyla channel"
   ]
  },
  {
   "cell_type": "code",
   "execution_count": null,
   "metadata": {
    "collapsed": false
   },
   "outputs": [],
   "source": [
    "experiment.readfromSpreadSheet(\"Chloro\", 144)\n",
    "experiment.FLdata[\"Chloro\"]"
   ]
  },
  {
   "cell_type": "markdown",
   "metadata": {},
   "source": [
    "Now, let's use platemate API to access only the data from Z5S for each channel:"
   ]
  },
  {
   "cell_type": "code",
   "execution_count": null,
   "metadata": {
    "collapsed": false
   },
   "outputs": [],
   "source": [
    "experiment.getFluorescence(\"Z5S\",\"mCherry\")"
   ]
  },
  {
   "cell_type": "code",
   "execution_count": null,
   "metadata": {
    "collapsed": false
   },
   "outputs": [],
   "source": [
    "experiment.getFluorescence(\"Z5A\",\"mCherry\")"
   ]
  },
  {
   "cell_type": "markdown",
   "metadata": {},
   "source": [
    "The OD of this colony:"
   ]
  },
  {
   "cell_type": "code",
   "execution_count": null,
   "metadata": {
    "collapsed": false
   },
   "outputs": [],
   "source": [
    "experiment.getFluorescence(\"Z5A\",\"OD\")"
   ]
  },
  {
   "cell_type": "markdown",
   "metadata": {},
   "source": [
    "Let's normalize all data using the OD channel"
   ]
  },
  {
   "cell_type": "code",
   "execution_count": null,
   "metadata": {
    "collapsed": false
   },
   "outputs": [],
   "source": [
    "experiment.normalizeAllFluorescence(\"mCherry\",\"OD\")\n",
    "experiment.getFluorescence(\"Z5A\",\"mCherry\")"
   ]
  },
  {
   "cell_type": "markdown",
   "metadata": {},
   "source": [
    "## Quick plots:"
   ]
  },
  {
   "cell_type": "markdown",
   "metadata": {},
   "source": [
    "Plotting the **normalized** fluorescences"
   ]
  },
  {
   "cell_type": "code",
   "execution_count": null,
   "metadata": {
    "collapsed": false
   },
   "outputs": [],
   "source": [
    "experiment.plotMean(\"mCherry\", [\"Z10M\",\"Z10A\",\"Z5A\"])\n",
    "\n",
    "pl.xlim(-0.5,2.5)\n",
    "pl.legend( numpoints = 1, bbox_to_anchor = (1.2,1.0))"
   ]
  },
  {
   "cell_type": "markdown",
   "metadata": {},
   "source": [
    "Let's look also at the standard deviation of these populations"
   ]
  },
  {
   "cell_type": "code",
   "execution_count": null,
   "metadata": {
    "collapsed": false
   },
   "outputs": [],
   "source": [
    "experiment.plotFuzzyMean(\"mCherry\", [\"Z10M\",\"Z10A\",\"Z5A\"])\n",
    "\n",
    "pl.xlim(-0.5,2.5)\n",
    "pl.legend( numpoints = 1, bbox_to_anchor = (1.2,1.0))"
   ]
  },
  {
   "cell_type": "markdown",
   "metadata": {},
   "source": [
    " "
   ]
  }
 ],
 "metadata": {
  "kernelspec": {
   "display_name": "Python 2",
   "language": "python",
   "name": "python2"
  },
  "language_info": {
   "codemirror_mode": {
    "name": "ipython",
    "version": 2
   },
   "file_extension": ".py",
   "mimetype": "text/x-python",
   "name": "python",
   "nbconvert_exporter": "python",
   "pygments_lexer": "ipython2",
   "version": "2.7.11"
  }
 },
 "nbformat": 4,
 "nbformat_minor": 0
}
